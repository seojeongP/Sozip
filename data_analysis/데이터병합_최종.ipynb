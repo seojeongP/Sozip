{
 "cells": [
  {
   "cell_type": "code",
   "execution_count": null,
   "id": "0a8a3e17-a1d3-4119-b272-047a1813e501",
   "metadata": {},
   "outputs": [],
   "source": [
    "#실거래가랑 병합 코드"
   ]
  },
  {
   "cell_type": "code",
   "execution_count": 7,
   "id": "0169fd6c-0ab2-4ffb-be66-260ba29d99ca",
   "metadata": {},
   "outputs": [
    {
     "name": "stderr",
     "output_type": "stream",
     "text": [
      "100%|██████████████████████████████████████████████████████████████████████████████| 9670/9670 [14:10<00:00, 11.38it/s]\n"
     ]
    }
   ],
   "source": [
    "import pandas as pd\n",
    "import requests\n",
    "from tqdm import tqdm\n",
    "\n",
    "# 카카오맵 API 키\n",
    "API_KEY = \"f3da4534e20ed82ac1571f3e8eba33c0\"\n",
    "\n",
    "# 데이터 파일 경로\n",
    "real_estate_file_path = \"거리계산(중복제거)/실거래가 연도별 병합/아파트_전월세_종로구.csv\"\n",
    "distance_calculation_file_path = \"거리계산(중복제거)/거리계산_중간_병합/편의점_공공도서관_지하철_버스_아파트.xlsx\"\n",
    "\n",
    "# 데이터 불러오기\n",
    "real_estate_data = pd.read_csv(real_estate_file_path, encoding= 'euc-kr')\n",
    "distance_data = pd.read_excel(distance_calculation_file_path)\n",
    "\n",
    "# 결과 데이터프레임\n",
    "merged_data = pd.DataFrame(columns=real_estate_data.columns)\n",
    "\n",
    "# 각 실거래가 데이터에 대해 도로명을 위도와 경도로 바꾸고 거리계산 파일에 해당하는 위도 경도와 일치하는 경우 데이터 병합\n",
    "for index, row in tqdm(real_estate_data.iterrows(), total=real_estate_data.shape[0]):\n",
    "    address = row['도로명']\n",
    "    if pd.notna(address):  # 도로명이 NaN이 아닌 경우에만 처리\n",
    "        try:\n",
    "            address = str(address).strip()  # 도로명주소를 문자열로 변환 후 공백 제거\n",
    "            if address:  # 도로명이 비어있지 않은 경우에만 처리\n",
    "                # 카카오맵 API를 이용하여 주소로부터 위도와 경도 정보 가져오기\n",
    "                response = requests.get(f\"https://dapi.kakao.com/v2/local/search/address.json?query={address}\", headers={\"Authorization\": f\"KakaoAK {API_KEY}\"})\n",
    "                data = response.json()\n",
    "                if data['documents']:\n",
    "                    latitude = round(float(data['documents'][0]['y']), 6)\n",
    "                    longitude = round(float(data['documents'][0]['x']), 6)\n",
    "                    # 거리계산 파일에서 해당 주소와 일치하는 행을 찾아서 병합\n",
    "                    matching_rows = distance_data[(round(distance_data['단지 위도'], 6) == latitude) & (round(distance_data['단지 경도'], 6) == longitude)]\n",
    "                   \n",
    "                    if not matching_rows.empty:\n",
    "                        # 거리계산 파일의 데이터를 실거래가 데이터의 해당 행에 추가\n",
    "                        for column in matching_rows.columns:\n",
    "                            real_estate_data.at[index, column] = matching_rows.iloc[0][column]\n",
    "\n",
    "        except Exception as e:\n",
    "            print(f\"Error occurred while processing row {index}: {e}\")\n",
    "    \n",
    "    # 병합된 데이터를 결과 데이터프레임에 추가\n",
    "    merged_data = pd.concat([merged_data, real_estate_data.loc[[index]]], ignore_index=True)\n",
    "merged_data.to_excel(\"아파트_전월세_종로구_병합.xlsx\", index=False)\n",
    "\n",
    "# 결과 출력\n",
    "#print(merged_data)\n"
   ]
  },
  {
   "cell_type": "code",
   "execution_count": null,
   "id": "475a252d-7b04-469d-9daf-2cf5bdcfd02e",
   "metadata": {},
   "outputs": [],
   "source": [
    "#실거래가 파일 좌표변환 코드"
   ]
  },
  {
   "cell_type": "code",
   "execution_count": 3,
   "id": "1f822a97-70db-4e3e-98f9-2a2dd3cc0cef",
   "metadata": {},
   "outputs": [
    {
     "name": "stderr",
     "output_type": "stream",
     "text": [
      "100%|████████████████████████████████████████████████████████████████████████████████████| 2/2 [00:00<00:00,  7.82it/s]"
     ]
    },
    {
     "name": "stdout",
     "output_type": "stream",
     "text": [
      "모든 반복이 완료되었습니다.\n",
      "          단지명      번지          도로명          latitude         longitude\n",
      "0  리츠빌(639-3)   639-3  논현로97길 19-4  37.5026491687873  127.034000125207\n",
      "1        삼경빌라  674-25  언주로93길 14-5  37.5041074604921  127.040524718334\n"
     ]
    },
    {
     "name": "stderr",
     "output_type": "stream",
     "text": [
      "\n"
     ]
    }
   ],
   "source": [
    "import pandas as pd\n",
    "import requests\n",
    "from tqdm import tqdm\n",
    "\n",
    "def address_to_coords(api_key, address):\n",
    "    \"\"\"\n",
    "    Convert address to coordinates using Kakao Maps API.\n",
    "\n",
    "    Parameters:\n",
    "        api_key (str): Your Kakao Maps API key.\n",
    "        address (str): Address to convert to coordinates.\n",
    "\n",
    "    Returns:\n",
    "        tuple: A tuple containing latitude and longitude.\n",
    "    \"\"\"\n",
    "    url = \"https://dapi.kakao.com/v2/local/search/address.json\"\n",
    "    headers = {\"Authorization\": f\"KakaoAK {api_key}\"}\n",
    "    params = {\"query\": address}\n",
    "    \n",
    "    response = requests.get(url, headers=headers, params=params)\n",
    "    data = response.json()\n",
    "    \n",
    "    if \"documents\" in data and data[\"documents\"]:\n",
    "        latitude = data[\"documents\"][0][\"y\"]\n",
    "        longitude = data[\"documents\"][0][\"x\"]\n",
    "        return latitude, longitude\n",
    "    else:\n",
    "        return None, None\n",
    "\n",
    "def main():\n",
    "    api_key = \"b3d07b3bc9d36308dfc4b023582e291d\"  # Replace with your own Kakao Maps API key\n",
    "\n",
    "    # Load data and remove duplicate rows\n",
    "    apartmon_23 = pd.read_csv('거리계산(중복제거)/DB_변수추가/연립다세대_매매.csv', encoding='euc-kr')[98060:98090]\n",
    "    apartmon_23 = apartmon_23[['단지명', '번지', '도로명']]\n",
    "    apartmon_23 = apartmon_23.drop_duplicates()\n",
    "\n",
    "    # Create empty lists to store data\n",
    "    complex_names = []\n",
    "    bungji = []  # New list for '번지'\n",
    "    road_names = []\n",
    "    latitudes = []\n",
    "    longitudes = []\n",
    "    \n",
    "    coords_df = pd.DataFrame(columns=['단지명', '번지', '도로명', '단지 위도', '단지 경도'])\n",
    "\n",
    "    # Iterate over each row in the dataframe\n",
    "    for index, row in tqdm(apartmon_23.iterrows(), total=apartmon_23.shape[0]):\n",
    "        address = row['도로명']  # Use only '도로명' for address conversion\n",
    "        complex_name = row['단지명']\n",
    "        bungji_val = row['번지']  # Get value from '번지' column\n",
    "        latitude, longitude = address_to_coords(api_key, address)\n",
    "        \n",
    "        # Append data to lists\n",
    "        complex_names.append(complex_name)\n",
    "        bungji.append(bungji_val)  # Append '번지' value\n",
    "        road_names.append(row['도로명'])\n",
    "        latitudes.append(latitude)\n",
    "        longitudes.append(longitude)\n",
    "        \n",
    "        # Update coords_df outside the loop\n",
    "        coords_df = pd.DataFrame({\n",
    "            '단지명': complex_names,\n",
    "            '번지': bungji,  # Use '번지' list\n",
    "            '도로명': road_names,\n",
    "            'latitude': latitudes,\n",
    "            'longitude': longitudes\n",
    "        })\n",
    "        #coords_df.to_csv(\"거리계산(중복제거)/실거래가 연도별 병합/연립다세대_매매_좌표수정7.csv\", index=False)\n",
    "    print(\"모든 반복이 완료되었습니다.\")\n",
    "    print(coords_df)\n",
    "\n",
    "# Run the main function\n",
    "if __name__ == \"__main__\":\n",
    "    main()\n"
   ]
  },
  {
   "cell_type": "code",
   "execution_count": null,
   "id": "d7e2df44-4897-43ab-a7e0-8ef239be882f",
   "metadata": {},
   "outputs": [],
   "source": [
    "#단지위도, 경도 빈셀 제거 "
   ]
  },
  {
   "cell_type": "code",
   "execution_count": 47,
   "id": "ce538a0c-5fbf-4997-a6cb-58765df45a5a",
   "metadata": {},
   "outputs": [
    {
     "name": "stdout",
     "output_type": "stream",
     "text": [
      "                 건물명      번지            도로명      단지 위도       단지 경도\n",
      "0             청운빌라A동  108-13        자하문로 98  37.584745  126.970481\n",
      "1           풍림팍사이드빌라   134-2      자하문로 99-3  37.584812  126.969867\n",
      "2            청운벽산빌리지       1  자하문로36길 16-14  37.591583  126.968017\n",
      "3           (52-128)  52-128    자하문로33다길 14  37.587021  126.967957\n",
      "4              신구파인힐   04-07     자하문로36길 22  37.590300  126.967834\n",
      "...              ...     ...            ...        ...         ...\n",
      "61250        자하문한숲빌라  208-29    자하문로40가길 13  37.594877  126.964430\n",
      "61251           조형빌라  179-15   자하문로42길 29-5  37.599259  126.961658\n",
      "61252  (Atomosphere)     275     창의문로10길 36  37.593040  126.964536\n",
      "61253    시아부암아이윌(A동)  182-27       자하문로 288  37.599051  126.960919\n",
      "61254           삼산빌라   34-15      홍지문2가길 16  37.600243  126.954852\n",
      "\n",
      "[59486 rows x 5 columns]\n"
     ]
    }
   ],
   "source": [
    "import pandas as pd\n",
    "\n",
    "# CSV 파일을 읽어옵니다.\n",
    "df1 = pd.read_csv(\"거리계산(중복제거)/실거래가 연도별 병합/연립다세대_매매_좌표추가.csv\", encoding='euc-kr')\n",
    "\n",
    "# latitude 열의 빈 셀(NaN)을 포함하는 행을 삭제합니다.\n",
    "df1 = df1.dropna(subset=['단지 위도'])\n",
    "\n",
    "# 수정된 DataFrame을 확인합니다.\n",
    "print(df1)\n",
    "\n",
    "# 필요하다면 수정된 DataFrame을 다시 CSV 파일로 저장합니다.\n",
    "df1.to_csv(\"거리계산(중복제거)/실거래가 연도별 병합/연립다세대_매매_좌표추가수정.csv\", index=False)\n"
   ]
  },
  {
   "cell_type": "code",
   "execution_count": null,
   "id": "aa4c1990-aa77-4d81-88b0-bc558480dcb7",
   "metadata": {},
   "outputs": [],
   "source": [
    "#실거래가 병합 - 연도 구분 x "
   ]
  },
  {
   "cell_type": "code",
   "execution_count": null,
   "id": "c675310f-654c-42f4-9d71-15d1a1dde13a",
   "metadata": {},
   "outputs": [
    {
     "name": "stdout",
     "output_type": "stream",
     "text": [
      "                  시군구      번지        건물명  전용면적(㎡)  대지권면적(㎡)    계약년월  계약일  \\\n",
      "0       서울특별시 종로구 청운동  108-13     청운빌라A동   112.50   89.8500  201909   23   \n",
      "1       서울특별시 종로구 청운동   134-2   풍림팍사이드빌라    84.43   59.4495  201909   24   \n",
      "2       서울특별시 종로구 청운동       1    청운벽산빌리지   141.39  137.0300  201909   25   \n",
      "3       서울특별시 종로구 청운동   134-2   풍림팍사이드빌라    53.83   37.9020  201909   30   \n",
      "4       서울특별시 종로구 청운동       1    청운벽산빌리지   176.40  170.9500  201908   15   \n",
      "...               ...     ...        ...      ...       ...     ...  ...   \n",
      "219608  서울특별시 종로구 신영동   03-03       신영빌라   104.05   87.4667  202301    6   \n",
      "219609  서울특별시 종로구 신영동   212-1       완성빌라    42.84   69.7000  202308   27   \n",
      "219610  서울특별시 종로구 신영동     209  북악더테라스6단지    84.95   90.6300  202302   24   \n",
      "219611  서울특별시 종로구 신영동   103-1      현대빌리지    86.29   57.3700  202307    3   \n",
      "219612  서울특별시 종로구 신영동   150-1       자하주택   109.09  128.9000  202306   30   \n",
      "\n",
      "       거래금액(만원)  층  건축년도            도로명  \n",
      "0        67,000  3  2000        자하문로 98  \n",
      "1        45,000  1  1997      자하문로 99-3  \n",
      "2       105,000  2  1988  자하문로36길 16-14  \n",
      "3        25,000  1  1997      자하문로 99-3  \n",
      "4       112,000  1  1988  자하문로36길 16-14  \n",
      "...         ... ..   ...            ...  \n",
      "219608   50,000  3  1983        진흥로 485  \n",
      "219609   29,500  3  1989        홍지문길 56  \n",
      "219610   90,000  2  2019     세검정로7가길 10  \n",
      "219611   46,000  3  1995      세검정로6나길 7  \n",
      "219612   60,000  1  1981      세검정로6길 70  \n",
      "\n",
      "[219613 rows x 11 columns]\n"
     ]
    }
   ],
   "source": [
    "import pandas as pd\n",
    "\n",
    "# 5개의 CSV 파일 경로 지정\n",
    "file_paths = [\n",
    "    '실거래가(변수정리).csv/연립다세대(매매)_실거래가_2019.csv',\n",
    "    '실거래가(변수정리).csv/연립다세대(매매)_실거래가_2020.csv',\n",
    "    '실거래가(변수정리).csv/연립다세대(매매)_실거래가_2021.csv',\n",
    "    '실거래가(변수정리).csv/연립다세대(매매)_실거래가_2022.csv',\n",
    "    '실거래가(변수정리).csv/연립다세대(매매)_실거래가_2023.csv'\n",
    "]\n",
    "\n",
    "# 빈 리스트를 생성하여 각 CSV 파일을 데이터프레임으로 불러와 저장\n",
    "dataframes = []\n",
    "\n",
    "for file_path in file_paths:\n",
    "    df = pd.read_csv(file_path, encoding = 'euc-kr')\n",
    "    dataframes.append(df)\n",
    "\n",
    "# 모든 데이터프레임을 하나로 병합\n",
    "merged_df = pd.concat(dataframes, ignore_index=True)\n",
    "\n",
    "# 결과 확인 (필요에 따라 출력)\n",
    "print(merged_df)\n",
    "\n",
    "# 병합된 데이터프레임을 새로운 CSV 파일로 저장 (필요에 따라)\n",
    "output_file = '실거래가(변수정리).csv/연립다세대_매매_전체.csv'  # 저장할 파일 경로와 이름\n",
    "merged_df.to_csv(output_file, index=False)\n"
   ]
  },
  {
   "cell_type": "code",
   "execution_count": null,
   "id": "fce37cdb-2925-41e1-887a-6ce89fdc2155",
   "metadata": {},
   "outputs": [],
   "source": [
    "#실거래가 파일 + 위경도 추가"
   ]
  },
  {
   "cell_type": "code",
   "execution_count": 4,
   "id": "4eb51db0-98f3-4378-ace6-ab88923a5ae7",
   "metadata": {},
   "outputs": [],
   "source": [
    "import pandas as pd\n",
    "\n",
    "# 첫 번째 CSV 파일 불러오기\n",
    "df1 = pd.read_csv(\"거리계산(중복제거)/실거래가 연도별 병합/연립다세대_매매_전체.csv\") #encoding = 'euc-kr'\n",
    "\n",
    "# 두 번째 CSV 파일 불러오기\n",
    "df2 = pd.read_csv(\"거리계산(중복제거)/실거래가 연도별 병합/연립다세대_매매_좌표추가.csv\",encoding = 'euc-kr')\n",
    "\n",
    "# 도로명이 있는 경우와 없는 경우로 데이터를 분리\n",
    "df1_with_road = df1.dropna(subset=['도로명'])\n",
    "df1_without_road = df1[df1['도로명'].isnull()]\n",
    "\n",
    "# 도로명이 있는 경우와 없는 경우를 각각 병합\n",
    "merged_df_with_road = pd.merge(df1_with_road,df2, on=['건물명', '도로명', '번지'], how='left')\n",
    "merged_df_without_road = pd.merge(df1_without_road,df2, on=['건물명', '번지'], how='left')\n",
    "# 두 결과를 합치기\n",
    "merged_df = pd.concat([merged_df_with_road, merged_df_without_road])\n",
    "merged_df.drop(columns=['도로명_x', '도로명_y'], inplace=True)\n",
    "merged_df.dropna(subset=['단지 위도', '단지 경도'], inplace=True)\n",
    "merged_df\n",
    "# 결과 출력\n",
    "merged_df.to_csv('거리계산(중복제거)/실거래가 연도별 병합/연립다세대_매매_좌표생성.csv', index=False)\n"
   ]
  },
  {
   "cell_type": "code",
   "execution_count": null,
   "id": "42b55fb4-d485-4fbc-8f66-a574a1595048",
   "metadata": {},
   "outputs": [],
   "source": [
    "#실거래가 파일 + 거리계산 병합"
   ]
  },
  {
   "cell_type": "code",
   "execution_count": 52,
   "id": "959b7fc4-7a16-49f6-a608-33644e53cb55",
   "metadata": {},
   "outputs": [
    {
     "name": "stdout",
     "output_type": "stream",
     "text": [
      "                  시군구      번지            단지명  전용면적(㎡)  대지권면적(㎡)    계약년월  계약일  \\\n",
      "0       서울특별시 종로구 청운동  108-13         청운빌라A동   112.50   89.8500  201909   23   \n",
      "1       서울특별시 종로구 청운동  108-13         청운빌라A동   122.16   97.5700  202303   17   \n",
      "2       서울특별시 종로구 청운동   134-2       풍림팍사이드빌라    84.43   59.4495  201909   24   \n",
      "3       서울특별시 종로구 청운동   134-2       풍림팍사이드빌라    53.83   37.9020  201909   30   \n",
      "4       서울특별시 종로구 청운동   134-2       풍림팍사이드빌라    53.83   37.9020  202001   20   \n",
      "...               ...     ...            ...      ...       ...     ...  ...   \n",
      "199096  서울특별시 종로구 부암동  208-29        자하문한숲빌라    82.92   45.2400  202306   30   \n",
      "199097  서울특별시 종로구 부암동  179-15           조형빌라   200.15  236.8400  202305   23   \n",
      "199098  서울특별시 종로구 부암동     275  (Atomosphere)   123.38  100.2000  202306    8   \n",
      "199099  서울특별시 종로구 부암동  182-27    시아부암아이윌(A동)    73.08   41.2500  202309   18   \n",
      "199100  서울특별시 종로구 홍지동   34-15           삼산빌라    84.60   82.8750  202310    7   \n",
      "\n",
      "       거래금액(만원)  층  건축년도  ... 중학교 거리(m)               고등학교  고등학교 거리(m)  \\\n",
      "0        67,000  3  2000  ...    499.82             경복고등학교      291.55   \n",
      "1        58,000  2  2000  ...    499.82             경복고등학교      291.55   \n",
      "2        45,000  1  1997  ...    501.35             경복고등학교      311.00   \n",
      "3        25,000  1  1997  ...    501.35             경복고등학교      311.00   \n",
      "4        28,000  2  1997  ...    501.35             경복고등학교      311.00   \n",
      "...         ... ..   ...  ...       ...                ...         ...   \n",
      "199096   45,000  3  2002  ...    862.02           경기상업고등학교      825.93   \n",
      "199097  145,000  2  1995  ...    770.25  상명대학교사범대학부속여자고등학교      823.99   \n",
      "199098  104,800  1  1974  ...    718.82           경기상업고등학교      663.20   \n",
      "199099   50,000  3  2003  ...    728.21  상명대학교사범대학부속여자고등학교      783.97   \n",
      "199100   47,000  3  1991  ...    292.93  상명대학교사범대학부속여자고등학교      352.43   \n",
      "\n",
      "       공공도서관(개) 경찰서(개) 소방서(개)  대형마트(개) 편의점(개)  약국(개) 병원(개)  \n",
      "0             2      6      1        0      3      0    44  \n",
      "1             2      6      1        0      3      0    44  \n",
      "2             2      5      1        0      3      0    43  \n",
      "3             2      5      1        0      3      0    43  \n",
      "4             2      5      1        0      3      0    43  \n",
      "...         ...    ...    ...      ...    ...    ...   ...  \n",
      "199096        0      2      2        0      3      0     9  \n",
      "199097        0      3      2        0      3      1    24  \n",
      "199098        0      2      1        0      3      0     5  \n",
      "199099        0      3      2        0      2      1    27  \n",
      "199100        0      4      2        1      3      0    33  \n",
      "\n",
      "[199101 rows x 30 columns]\n"
     ]
    }
   ],
   "source": [
    "import pandas as pd\n",
    "from tqdm import tqdm\n",
    "\n",
    "counted_pharmacy_path = \"거리계산(중복제거)/실거래가 연도별 병합/연립다세대_매매_좌표생성.csv\"\n",
    "counted_library_path = \"거리계산(중복제거)/거리계산_중간_병합/전체거리계산_연립다세대.xlsx\"\n",
    "\n",
    "# 데이터 불러오기\n",
    "counted_pharmacy_data = pd.read_csv(counted_pharmacy_path, encoding = 'euc-kr')\n",
    "counted_library_data = pd.read_excel(counted_library_path)\n",
    "\n",
    "counted_pharmacy_data['단지 위도'] = counted_pharmacy_data['단지 위도'].round(6)\n",
    "counted_pharmacy_data['단지 경도'] = counted_pharmacy_data['단지 경도'].round(6)\n",
    "\n",
    "counted_library_data['단지 위도'] = counted_library_data['단지 위도'].round(6)\n",
    "counted_library_data['단지 경도'] = counted_library_data['단지 경도'].round(6)\n",
    "\n",
    "merged_data = pd.merge(counted_pharmacy_data, counted_library_data, on=['단지명','단지 위도', '단지 경도'], how='inner')\n",
    "\n",
    "# 결과 확인\n",
    "print(merged_data)\n",
    "\n",
    "# 결과를 엑셀 파일로 \n",
    "merged_data.to_csv('거리계산(중복제거)/실거래가 연도별 병합/연립다세대_매매_최종병합.csv', index=False)\n"
   ]
  },
  {
   "cell_type": "code",
   "execution_count": null,
   "id": "e3a282b4-aa5a-4a33-bd60-9220b1a2aa96",
   "metadata": {},
   "outputs": [],
   "source": []
  }
 ],
 "metadata": {
  "kernelspec": {
   "display_name": "Python 3 (ipykernel)",
   "language": "python",
   "name": "python3"
  },
  "language_info": {
   "codemirror_mode": {
    "name": "ipython",
    "version": 3
   },
   "file_extension": ".py",
   "mimetype": "text/x-python",
   "name": "python",
   "nbconvert_exporter": "python",
   "pygments_lexer": "ipython3",
   "version": "3.9.13"
  }
 },
 "nbformat": 4,
 "nbformat_minor": 5
}
